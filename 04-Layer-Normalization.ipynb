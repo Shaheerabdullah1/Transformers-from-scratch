{
 "cells": [
  {
   "cell_type": "code",
   "execution_count": 1,
   "metadata": {},
   "outputs": [],
   "source": [
    "import torch\n",
    "from torch import nn"
   ]
  },
  {
   "cell_type": "code",
   "execution_count": 2,
   "metadata": {},
   "outputs": [
    {
     "data": {
      "text/plain": [
       "torch.Size([2, 1, 3])"
      ]
     },
     "execution_count": 2,
     "metadata": {},
     "output_type": "execute_result"
    }
   ],
   "source": [
    "inputs = torch.Tensor([[[0.2,0.1,0.3],[0.5,0.1,0.1]]])\n",
    "B,S,E= inputs.size()\n",
    "inputs = inputs.reshape(S,B,E)\n",
    "inputs.size()"
   ]
  },
  {
   "cell_type": "code",
   "execution_count": 3,
   "metadata": {},
   "outputs": [],
   "source": [
    "parameter_shape = inputs.size()[-2:]\n",
    "gamma = nn.Parameter(torch.ones(parameter_shape))\n",
    "beta= nn.Parameter(torch.zeros(parameter_shape))"
   ]
  },
  {
   "cell_type": "code",
   "execution_count": 4,
   "metadata": {},
   "outputs": [
    {
     "data": {
      "text/plain": [
       "(torch.Size([1, 3]), torch.Size([1, 3]))"
      ]
     },
     "execution_count": 4,
     "metadata": {},
     "output_type": "execute_result"
    }
   ],
   "source": [
    "gamma.size() , beta.size()"
   ]
  },
  {
   "cell_type": "code",
   "execution_count": 5,
   "metadata": {},
   "outputs": [],
   "source": [
    "dims = [-(i+1) for i in range(len(parameter_shape))]"
   ]
  },
  {
   "cell_type": "code",
   "execution_count": 6,
   "metadata": {},
   "outputs": [
    {
     "data": {
      "text/plain": [
       "[-1, -2]"
      ]
     },
     "execution_count": 6,
     "metadata": {},
     "output_type": "execute_result"
    }
   ],
   "source": [
    "dims"
   ]
  },
  {
   "cell_type": "code",
   "execution_count": 7,
   "metadata": {},
   "outputs": [
    {
     "data": {
      "text/plain": [
       "torch.Size([2, 1, 1])"
      ]
     },
     "execution_count": 7,
     "metadata": {},
     "output_type": "execute_result"
    }
   ],
   "source": [
    "mean = inputs.mean(dim=dims , keepdim=True)\n",
    "mean.size()"
   ]
  },
  {
   "cell_type": "code",
   "execution_count": 8,
   "metadata": {},
   "outputs": [
    {
     "data": {
      "text/plain": [
       "tensor([[[0.2000]],\n",
       "\n",
       "        [[0.2333]]])"
      ]
     },
     "execution_count": 8,
     "metadata": {},
     "output_type": "execute_result"
    }
   ],
   "source": [
    "mean"
   ]
  },
  {
   "cell_type": "code",
   "execution_count": 9,
   "metadata": {},
   "outputs": [
    {
     "data": {
      "text/plain": [
       "tensor([[[0.0817]],\n",
       "\n",
       "        [[0.1886]]])"
      ]
     },
     "execution_count": 9,
     "metadata": {},
     "output_type": "execute_result"
    }
   ],
   "source": [
    "var = ((inputs-mean)**2).mean(dim=dims,keepdim=True)\n",
    "epsilon=1e-5\n",
    "std=(var+epsilon).sqrt()\n",
    "std"
   ]
  },
  {
   "cell_type": "code",
   "execution_count": 10,
   "metadata": {},
   "outputs": [
    {
     "data": {
      "text/plain": [
       "tensor([[[ 0.0000, -1.2238,  1.2238]],\n",
       "\n",
       "        [[ 1.4140, -0.7070, -0.7070]]])"
      ]
     },
     "execution_count": 10,
     "metadata": {},
     "output_type": "execute_result"
    }
   ],
   "source": [
    "y = (inputs-mean)/std\n",
    "y"
   ]
  },
  {
   "cell_type": "code",
   "execution_count": 11,
   "metadata": {},
   "outputs": [],
   "source": [
    "out =gamma*y +beta"
   ]
  },
  {
   "cell_type": "code",
   "execution_count": 12,
   "metadata": {},
   "outputs": [
    {
     "data": {
      "text/plain": [
       "tensor([[[ 0.0000, -1.2238,  1.2238]],\n",
       "\n",
       "        [[ 1.4140, -0.7070, -0.7070]]], grad_fn=<AddBackward0>)"
      ]
     },
     "execution_count": 12,
     "metadata": {},
     "output_type": "execute_result"
    }
   ],
   "source": [
    "out"
   ]
  },
  {
   "cell_type": "code",
   "execution_count": 21,
   "metadata": {},
   "outputs": [],
   "source": [
    "import torch\n",
    "from torch import nn\n",
    "class LayerNormalization():\n",
    "    def __init__(self,Parameter_shape,eps=1e-5):\n",
    "        self.parameters_shape = Parameter_shape\n",
    "        self.eps=eps\n",
    "        self.gemma = nn.Parameter(torch.ones(parameter_shape))\n",
    "        self.beta = nn.Parameter(torch.zeros(parameter_shape))\n",
    "    def forward(self , input):\n",
    "        dims=[-(i+1) for i in range(len(self.parameters_shape))]\n",
    "        mean=inputs.mean(dim=dims,keepdim=True)\n",
    "        print(f\"Mean \\n ({mean.size()}):\\n {mean}\")\n",
    "        var=((inputs-mean)**2).mean(dim=dims,keepdim=True)\n",
    "        std=(var+self.eps).sqrt()\n",
    "        print(f\"Standard Deviation \\n ({std.size()}):\\n {std}\")\n",
    "        y=(inputs-mean)/std\n",
    "        print(f\"y \\n ({y.size()}) = \\n {y}\")\n",
    "        out=self.gemma * y +self.beta\n",
    "        print(f\"out \\n ({out.size()})= \\n {out}\")\n",
    "        return out"
   ]
  },
  {
   "cell_type": "code",
   "execution_count": 22,
   "metadata": {},
   "outputs": [
    {
     "name": "stdout",
     "output_type": "stream",
     "text": [
      "input \n",
      " (torch.Size([5, 3, 8])) = \n",
      " tensor([[[-0.2957, -1.0162,  0.8366,  1.0397, -0.2092, -1.0388, -0.0887,\n",
      "          -1.3184],\n",
      "         [ 0.4750, -0.4020,  0.3287,  0.3990,  0.0811, -1.5061, -0.1285,\n",
      "          -1.8140],\n",
      "         [ 1.0124,  0.0941,  0.1472,  1.1925,  0.1442,  1.8944,  1.9388,\n",
      "          -0.7511]],\n",
      "\n",
      "        [[ 1.6309, -1.5147,  1.3785,  1.3171, -0.0369, -0.0606, -1.0579,\n",
      "          -1.0193],\n",
      "         [-0.2360, -1.4006, -0.5134, -1.1308, -0.1040, -0.6968, -1.0409,\n",
      "          -0.0840],\n",
      "         [-1.1480, -1.2017, -1.8017, -0.3987, -2.1523, -0.3158,  0.4949,\n",
      "           0.9433]],\n",
      "\n",
      "        [[ 1.0028,  0.6672,  1.1469, -1.2203, -0.2666,  1.2682, -0.3031,\n",
      "          -0.3401],\n",
      "         [ 1.0730,  0.9047, -1.3346,  0.8323, -0.8746,  0.8600,  1.9366,\n",
      "          -1.4452],\n",
      "         [-1.0874, -1.1360,  0.7158, -0.3034, -0.0942, -0.5340, -2.5102,\n",
      "           0.1916]],\n",
      "\n",
      "        [[ 0.0111, -1.5938, -0.6747,  1.9637, -0.2761, -1.5609, -1.2378,\n",
      "           1.3630],\n",
      "         [-0.4004,  0.0035,  0.4281,  1.1210,  1.6166,  1.1283, -0.2571,\n",
      "          -1.2880],\n",
      "         [ 1.7338,  0.3790,  1.0593, -0.6572,  0.7554,  1.6832,  1.3424,\n",
      "          -1.2496]],\n",
      "\n",
      "        [[ 1.0442,  2.7204,  0.2168,  0.4372, -0.1713,  0.7470,  0.4247,\n",
      "          -1.0055],\n",
      "         [-0.7421, -0.2944, -1.0519,  0.0219, -0.7525, -1.2109, -0.3064,\n",
      "           2.3661],\n",
      "         [-0.5143, -1.4004,  0.9155,  0.4599,  0.0644,  1.3932,  1.3307,\n",
      "           0.5457]]])\n"
     ]
    }
   ],
   "source": [
    "batch_size=3\n",
    "sentence_length=5\n",
    "embedding_dim=8\n",
    "inputs = torch.randn(sentence_length,batch_size,embedding_dim)\n",
    "print(f\"input \\n ({inputs.size()}) = \\n {inputs}\")"
   ]
  },
  {
   "cell_type": "code",
   "execution_count": 23,
   "metadata": {},
   "outputs": [],
   "source": [
    "layer_norm= LayerNormalization(inputs.size()[-1:])"
   ]
  },
  {
   "cell_type": "code",
   "execution_count": 24,
   "metadata": {},
   "outputs": [
    {
     "name": "stdout",
     "output_type": "stream",
     "text": [
      "Mean \n",
      " (torch.Size([5, 3, 1])):\n",
      " tensor([[[-0.2613],\n",
      "         [-0.3209],\n",
      "         [ 0.7090]],\n",
      "\n",
      "        [[ 0.0796],\n",
      "         [-0.6508],\n",
      "         [-0.6975]],\n",
      "\n",
      "        [[ 0.2444],\n",
      "         [ 0.2440],\n",
      "         [-0.5947]],\n",
      "\n",
      "        [[-0.2507],\n",
      "         [ 0.2940],\n",
      "         [ 0.6308]],\n",
      "\n",
      "        [[ 0.5517],\n",
      "         [-0.2463],\n",
      "         [ 0.3493]]])\n",
      "Standard Deviation \n",
      " (torch.Size([5, 3, 1])):\n",
      " tensor([[[0.8081],\n",
      "         [0.8226],\n",
      "         [0.8936]],\n",
      "\n",
      "        [[1.1566],\n",
      "         [0.4688],\n",
      "         [1.0088]],\n",
      "\n",
      "        [[0.8415],\n",
      "         [1.1891],\n",
      "         [0.9273]],\n",
      "\n",
      "        [[1.2375],\n",
      "         [0.9028],\n",
      "         [1.0178]],\n",
      "\n",
      "        [[1.0046],\n",
      "         [1.0597],\n",
      "         [0.8883]]])\n",
      "y \n",
      " (torch.Size([5, 3, 8])) = \n",
      " tensor([[[-0.0425, -0.9342,  1.3588,  1.6101,  0.0645, -0.9621,  0.2137,\n",
      "          -1.3082],\n",
      "         [ 0.9675, -0.0987,  0.7896,  0.8752,  0.4886, -1.4409,  0.2338,\n",
      "          -1.8152],\n",
      "         [ 0.3395, -0.6882, -0.6287,  0.5410, -0.6322,  1.3265,  1.3761,\n",
      "          -1.6340]],\n",
      "\n",
      "        [[ 1.3412, -1.3785,  1.1230,  1.0699, -0.1008, -0.1212, -0.9835,\n",
      "          -0.9502],\n",
      "         [ 0.8849, -1.5995,  0.2931, -1.0238,  1.1664, -0.0982, -0.8321,\n",
      "           1.2090],\n",
      "         [-0.4466, -0.4998, -1.0945,  0.2962, -1.4420,  0.3783,  1.1819,\n",
      "           1.6265]],\n",
      "\n",
      "        [[ 0.9014,  0.5025,  1.0725, -1.7406, -0.6073,  1.2167, -0.6506,\n",
      "          -0.6945],\n",
      "         [ 0.6972,  0.5556, -1.3276,  0.4947, -0.9407,  0.5181,  1.4235,\n",
      "          -1.4206],\n",
      "         [-0.5313, -0.5837,  1.4132,  0.3141,  0.5398,  0.0655, -2.0656,\n",
      "           0.8480]],\n",
      "\n",
      "        [[ 0.2116, -1.0854, -0.3426,  1.7894, -0.0206, -1.0587, -0.7976,\n",
      "           1.3040],\n",
      "         [-0.7692, -0.3218,  0.1486,  0.9160,  1.4650,  0.9242, -0.6104,\n",
      "          -1.7523],\n",
      "         [ 1.0836, -0.2474,  0.4210, -1.2654,  0.1224,  1.0340,  0.6992,\n",
      "          -1.8474]],\n",
      "\n",
      "        [[ 0.4903,  2.1589, -0.3334, -0.1140, -0.7197,  0.1944, -0.1264,\n",
      "          -1.5501],\n",
      "         [-0.4679, -0.0454, -0.7603,  0.2530, -0.4777, -0.9103, -0.0567,\n",
      "           2.4651],\n",
      "         [-0.9722, -1.9697,  0.6373,  0.1245, -0.3207,  1.1751,  1.1048,\n",
      "           0.2211]]])\n"
     ]
    },
    {
     "ename": "AttributeError",
     "evalue": "'LayerNormalization' object has no attribute 'gemma'",
     "output_type": "error",
     "traceback": [
      "\u001b[1;31m---------------------------------------------------------------------------\u001b[0m",
      "\u001b[1;31mAttributeError\u001b[0m                            Traceback (most recent call last)",
      "Cell \u001b[1;32mIn[24], line 1\u001b[0m\n\u001b[1;32m----> 1\u001b[0m out \u001b[38;5;241m=\u001b[39m \u001b[43mlayer_norm\u001b[49m\u001b[38;5;241;43m.\u001b[39;49m\u001b[43mforward\u001b[49m\u001b[43m(\u001b[49m\u001b[43minputs\u001b[49m\u001b[43m)\u001b[49m\n",
      "Cell \u001b[1;32mIn[21], line 18\u001b[0m, in \u001b[0;36mLayerNormalization.forward\u001b[1;34m(self, input)\u001b[0m\n\u001b[0;32m     16\u001b[0m y\u001b[38;5;241m=\u001b[39m(inputs\u001b[38;5;241m-\u001b[39mmean)\u001b[38;5;241m/\u001b[39mstd\n\u001b[0;32m     17\u001b[0m \u001b[38;5;28mprint\u001b[39m(\u001b[38;5;124mf\u001b[39m\u001b[38;5;124m\"\u001b[39m\u001b[38;5;124my \u001b[39m\u001b[38;5;130;01m\\n\u001b[39;00m\u001b[38;5;124m (\u001b[39m\u001b[38;5;132;01m{\u001b[39;00my\u001b[38;5;241m.\u001b[39msize()\u001b[38;5;132;01m}\u001b[39;00m\u001b[38;5;124m) = \u001b[39m\u001b[38;5;130;01m\\n\u001b[39;00m\u001b[38;5;124m \u001b[39m\u001b[38;5;132;01m{\u001b[39;00my\u001b[38;5;132;01m}\u001b[39;00m\u001b[38;5;124m\"\u001b[39m)\n\u001b[1;32m---> 18\u001b[0m out\u001b[38;5;241m=\u001b[39m\u001b[38;5;28;43mself\u001b[39;49m\u001b[38;5;241;43m.\u001b[39;49m\u001b[43mgemma\u001b[49m \u001b[38;5;241m*\u001b[39m y \u001b[38;5;241m+\u001b[39m\u001b[38;5;28mself\u001b[39m\u001b[38;5;241m.\u001b[39mbeta\n\u001b[0;32m     19\u001b[0m \u001b[38;5;28mprint\u001b[39m(\u001b[38;5;124mf\u001b[39m\u001b[38;5;124m\"\u001b[39m\u001b[38;5;124mout \u001b[39m\u001b[38;5;130;01m\\n\u001b[39;00m\u001b[38;5;124m (\u001b[39m\u001b[38;5;132;01m{\u001b[39;00mout\u001b[38;5;241m.\u001b[39msize()\u001b[38;5;132;01m}\u001b[39;00m\u001b[38;5;124m)= \u001b[39m\u001b[38;5;130;01m\\n\u001b[39;00m\u001b[38;5;124m \u001b[39m\u001b[38;5;132;01m{\u001b[39;00mout\u001b[38;5;132;01m}\u001b[39;00m\u001b[38;5;124m\"\u001b[39m)\n\u001b[0;32m     20\u001b[0m \u001b[38;5;28;01mreturn\u001b[39;00m out\n",
      "\u001b[1;31mAttributeError\u001b[0m: 'LayerNormalization' object has no attribute 'gemma'"
     ]
    }
   ],
   "source": [
    "out = layer_norm.forward(inputs)"
   ]
  },
  {
   "cell_type": "code",
   "execution_count": null,
   "metadata": {},
   "outputs": [],
   "source": []
  }
 ],
 "metadata": {
  "kernelspec": {
   "display_name": "Python 3",
   "language": "python",
   "name": "python3"
  },
  "language_info": {
   "codemirror_mode": {
    "name": "ipython",
    "version": 3
   },
   "file_extension": ".py",
   "mimetype": "text/x-python",
   "name": "python",
   "nbconvert_exporter": "python",
   "pygments_lexer": "ipython3",
   "version": "3.12.2"
  }
 },
 "nbformat": 4,
 "nbformat_minor": 2
}
