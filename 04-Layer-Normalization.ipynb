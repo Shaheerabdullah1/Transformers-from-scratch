{
 "cells": [
  {
   "cell_type": "code",
   "execution_count": 1,
   "metadata": {},
   "outputs": [],
   "source": [
    "import torch\n",
    "from torch import nn"
   ]
  },
  {
   "cell_type": "code",
   "execution_count": 2,
   "metadata": {},
   "outputs": [
    {
     "data": {
      "text/plain": [
       "torch.Size([2, 1, 3])"
      ]
     },
     "execution_count": 2,
     "metadata": {},
     "output_type": "execute_result"
    }
   ],
   "source": [
    "inputs = torch.Tensor([[[0.2,0.1,0.3],[0.5,0.1,0.1]]])\n",
    "B,S,E= inputs.size()\n",
    "inputs = inputs.reshape(S,B,E)\n",
    "inputs.size()"
   ]
  },
  {
   "cell_type": "code",
   "execution_count": 3,
   "metadata": {},
   "outputs": [],
   "source": [
    "parameter_shape = inputs.size()[-2:]\n",
    "gamma = nn.Parameter(torch.ones(parameter_shape))\n",
    "beta= nn.Parameter(torch.zeros(parameter_shape))"
   ]
  },
  {
   "cell_type": "code",
   "execution_count": 4,
   "metadata": {},
   "outputs": [
    {
     "data": {
      "text/plain": [
       "(torch.Size([1, 3]), torch.Size([1, 3]))"
      ]
     },
     "execution_count": 4,
     "metadata": {},
     "output_type": "execute_result"
    }
   ],
   "source": [
    "gamma.size() , beta.size()"
   ]
  },
  {
   "cell_type": "code",
   "execution_count": 5,
   "metadata": {},
   "outputs": [],
   "source": [
    "dims = [-(i+1) for i in range(len(parameter_shape))]"
   ]
  },
  {
   "cell_type": "code",
   "execution_count": 6,
   "metadata": {},
   "outputs": [
    {
     "data": {
      "text/plain": [
       "[-1, -2]"
      ]
     },
     "execution_count": 6,
     "metadata": {},
     "output_type": "execute_result"
    }
   ],
   "source": [
    "dims"
   ]
  },
  {
   "cell_type": "code",
   "execution_count": 7,
   "metadata": {},
   "outputs": [
    {
     "data": {
      "text/plain": [
       "torch.Size([2, 1, 1])"
      ]
     },
     "execution_count": 7,
     "metadata": {},
     "output_type": "execute_result"
    }
   ],
   "source": [
    "mean = inputs.mean(dim=dims , keepdim=True)\n",
    "mean.size()"
   ]
  },
  {
   "cell_type": "code",
   "execution_count": 8,
   "metadata": {},
   "outputs": [
    {
     "data": {
      "text/plain": [
       "tensor([[[0.2000]],\n",
       "\n",
       "        [[0.2333]]])"
      ]
     },
     "execution_count": 8,
     "metadata": {},
     "output_type": "execute_result"
    }
   ],
   "source": [
    "mean"
   ]
  },
  {
   "cell_type": "code",
   "execution_count": 9,
   "metadata": {},
   "outputs": [
    {
     "data": {
      "text/plain": [
       "tensor([[[0.0817]],\n",
       "\n",
       "        [[0.1886]]])"
      ]
     },
     "execution_count": 9,
     "metadata": {},
     "output_type": "execute_result"
    }
   ],
   "source": [
    "var = ((inputs-mean)**2).mean(dim=dims,keepdim=True)\n",
    "epsilon=1e-5\n",
    "std=(var+epsilon).sqrt()\n",
    "std"
   ]
  },
  {
   "cell_type": "code",
   "execution_count": 10,
   "metadata": {},
   "outputs": [
    {
     "data": {
      "text/plain": [
       "tensor([[[ 0.0000, -1.2238,  1.2238]],\n",
       "\n",
       "        [[ 1.4140, -0.7070, -0.7070]]])"
      ]
     },
     "execution_count": 10,
     "metadata": {},
     "output_type": "execute_result"
    }
   ],
   "source": [
    "y = (inputs-mean)/std\n",
    "y"
   ]
  },
  {
   "cell_type": "code",
   "execution_count": 11,
   "metadata": {},
   "outputs": [],
   "source": [
    "out =gamma*y +beta"
   ]
  },
  {
   "cell_type": "code",
   "execution_count": 12,
   "metadata": {},
   "outputs": [
    {
     "data": {
      "text/plain": [
       "tensor([[[ 0.0000, -1.2238,  1.2238]],\n",
       "\n",
       "        [[ 1.4140, -0.7070, -0.7070]]], grad_fn=<AddBackward0>)"
      ]
     },
     "execution_count": 12,
     "metadata": {},
     "output_type": "execute_result"
    }
   ],
   "source": [
    "out"
   ]
  },
  {
   "cell_type": "code",
   "execution_count": 34,
   "metadata": {},
   "outputs": [],
   "source": [
    "import torch\n",
    "from torch import nn\n",
    "class LayerNormalization():\n",
    "    def __init__(self,Parameter_shape,eps=1e-5):\n",
    "        self.parameters_shape = Parameter_shape\n",
    "        self.eps=eps\n",
    "        self.gamma = nn.Parameter(torch.ones(parameter_shape))\n",
    "        self.beta = nn.Parameter(torch.zeros(parameter_shape))\n",
    "    def forward(self , input):\n",
    "        dims=[-(i+1) for i in range(len(self.parameters_shape))]\n",
    "        mean=inputs.mean(dim=dims,keepdim=True)\n",
    "        print(f\"Mean \\n ({mean.size()}):\\n {mean}\")\n",
    "        var=((inputs-mean)**2).mean(dim=dims,keepdim=True)\n",
    "        std=(var+self.eps).sqrt()\n",
    "        print(f\"Standard Deviation \\n ({std.size()}):\\n {std}\")\n",
    "        y=(inputs-mean)/std\n",
    "        print(f\"y \\n ({y.size()}) = \\n {y}\")\n",
    "        out=self.gamma*y + self.beta\n",
    "        print(f\"out \\n ({out.size()})= \\n {out}\")\n",
    "        return out"
   ]
  },
  {
   "cell_type": "code",
   "execution_count": 35,
   "metadata": {},
   "outputs": [
    {
     "name": "stdout",
     "output_type": "stream",
     "text": [
      "input \n",
      " (torch.Size([5, 3, 8])) = \n",
      " tensor([[[ 0.2164, -0.1193,  0.1176,  0.7733,  0.8647, -0.1534,  2.1180,\n",
      "          -1.2633],\n",
      "         [ 0.3356, -0.2730,  1.3946, -0.5316,  0.0441, -0.1141,  1.2318,\n",
      "          -1.0368],\n",
      "         [-0.3906,  0.5289, -1.8044, -1.1515, -0.8427,  2.1920,  0.2481,\n",
      "          -0.0627]],\n",
      "\n",
      "        [[ 0.0601, -1.2522,  1.2418,  0.2391, -0.2767,  1.2703,  0.2540,\n",
      "          -0.3638],\n",
      "         [-1.4634, -0.6058,  0.8128,  2.1337, -0.0897, -1.2985, -0.4164,\n",
      "          -2.0279],\n",
      "         [-0.3858,  0.1715, -0.5656,  1.1258, -0.1598,  1.7249, -0.1692,\n",
      "          -0.7915]],\n",
      "\n",
      "        [[ 0.3250,  0.2391, -1.1581,  0.8781, -0.1370,  0.0210, -0.2908,\n",
      "           0.2522],\n",
      "         [-1.5470,  1.5620,  0.6832, -1.2587, -0.5990, -0.3087,  1.7681,\n",
      "          -0.0310],\n",
      "         [-1.0189,  1.4612,  0.5971,  0.1533, -0.9600, -3.0635,  0.4294,\n",
      "          -1.7472]],\n",
      "\n",
      "        [[ 1.8924, -1.1453,  0.7231, -2.2260, -0.1977, -0.6423,  0.4210,\n",
      "           1.7825],\n",
      "         [ 1.1058, -0.1404,  0.1481, -0.5485,  0.4960,  1.6149, -1.4588,\n",
      "           0.6688],\n",
      "         [ 0.8410, -0.8690, -0.0960, -2.1073,  0.5850,  0.2179,  0.7425,\n",
      "          -0.0483]],\n",
      "\n",
      "        [[-0.4512, -0.3467,  1.6005,  1.1984,  0.4966, -0.6150,  0.1452,\n",
      "          -0.4744],\n",
      "         [ 0.7138,  2.4454, -0.8186, -0.1234,  0.1109,  1.7590, -0.6510,\n",
      "          -1.0251],\n",
      "         [-0.5686, -0.5583, -0.6205,  1.3375,  0.1672, -1.3815,  0.4201,\n",
      "           0.2128]]])\n"
     ]
    }
   ],
   "source": [
    "batch_size=3\n",
    "sentence_length=5\n",
    "embedding_dim=8\n",
    "inputs = torch.randn(sentence_length,batch_size,embedding_dim)\n",
    "print(f\"input \\n ({inputs.size()}) = \\n {inputs}\")"
   ]
  },
  {
   "cell_type": "code",
   "execution_count": null,
   "metadata": {},
   "outputs": [],
   "source": []
  }
 ],
 "metadata": {
  "kernelspec": {
   "display_name": "Python 3",
   "language": "python",
   "name": "python3"
  },
  "language_info": {
   "codemirror_mode": {
    "name": "ipython",
    "version": 3
   },
   "file_extension": ".py",
   "mimetype": "text/x-python",
   "name": "python",
   "nbconvert_exporter": "python",
   "pygments_lexer": "ipython3",
   "version": "3.12.2"
  }
 },
 "nbformat": 4,
 "nbformat_minor": 2
}
