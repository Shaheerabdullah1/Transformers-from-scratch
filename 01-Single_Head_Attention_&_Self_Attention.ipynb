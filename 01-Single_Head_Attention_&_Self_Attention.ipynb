{
  "cells": [
    {
      "cell_type": "markdown",
      "metadata": {
        "id": "G59OaFdCXuMH"
      },
      "source": [
        "# Single-Head-Attention & Self-Attention"
      ]
    },
    {
      "cell_type": "markdown",
      "metadata": {
        "id": "QDsM0IHhN0Tf"
      },
      "source": [
        "### Attention"
      ]
    },
    {
      "cell_type": "code",
      "execution_count": 17,
      "metadata": {
        "id": "OsnpZGkcLZ4v"
      },
      "outputs": [],
      "source": [
        "import math\n",
        "import numpy as np\n",
        "#input consists of length of 4 words sentence\n",
        "# for example \"my name is shaheer\"\n",
        "L, d_k,d_v = 4 ,8 ,8\n",
        "q = np.random.randn(L,d_k)\n",
        "k = np.random.randn(L,d_k)\n",
        "v =np.random.randn(L,d_v)"
      ]
    },
    {
      "cell_type": "code",
      "execution_count": 4,
      "metadata": {
        "colab": {
          "base_uri": "https://localhost:8080/"
        },
        "id": "7lVpdWXLMFNy",
        "outputId": "2565fe19-ed2f-46c0-a3d8-a845b5445821"
      },
      "outputs": [
        {
          "name": "stdout",
          "output_type": "stream",
          "text": [
            "Q\n",
            "[[-0.57705205 -0.20126873  2.4841818  -0.59454729  0.86675242 -0.93566926\n",
            "  -0.22403582  0.24752613]\n",
            " [ 2.69861913 -0.4142783   2.40708822  1.52438144 -1.47826004 -0.94376802\n",
            "   2.12568231 -0.20862321]\n",
            " [ 0.03307367 -0.08602546  1.00735884  1.18441916 -0.46719836 -0.49417361\n",
            "   0.21721513 -0.0372552 ]\n",
            " [-1.04437715  1.07795544 -0.70983591 -1.87684872  1.0965299   0.78325768\n",
            "   1.5372198   1.30800282]]\n",
            "\n",
            "K\n",
            "[[-0.70876639  2.87122589  0.39664913  0.5625836  -0.09371676  0.70685929\n",
            "  -0.21909447  2.98217162]\n",
            " [ 1.07705745  0.83293295 -0.79823053  0.18834209 -0.59868578  0.83365767\n",
            "   0.07874967 -1.6473599 ]\n",
            " [-0.79625733  0.37628871  0.10832292  0.74373004 -2.15490751 -0.375684\n",
            "   1.44591142  1.65685043]\n",
            " [ 0.64180114 -1.76962332 -1.48473503 -1.19267678 -1.76738398  0.35231992\n",
            "  -0.53882037 -0.27056034]]\n",
            "\n",
            "V\n",
            "[[-1.48421465  0.91421542  2.9635656   0.66601824  1.27399073 -1.84956107\n",
            "  -0.95489083 -1.02632214]\n",
            " [-0.60901238  0.77696731  1.80741724 -1.76152696  1.76552493 -1.0531615\n",
            "  -1.99128736  0.29040253]\n",
            " [ 0.95790946 -0.12122816  0.36100907 -0.14314619 -0.09127807 -0.75256888\n",
            "   0.8155478  -0.44362644]\n",
            " [ 0.75528066  2.33311931  0.20862194  0.31959089 -1.31291711  0.29148111\n",
            "   0.29577984 -1.47786321]]\n",
            "\n"
          ]
        }
      ],
      "source": [
        "print(f\"Q\\n{q}\\n\") #vector of 8x1 is created.\n",
        "print(f\"K\\n{k}\\n\")  #vector of 8x1 is created.\n",
        "print(f\"V\\n{v}\\n\")  #vector of 8x1 is created."
      ]
    },
    {
      "cell_type": "markdown",
      "metadata": {
        "id": "scMN4-6EORxz"
      },
      "source": [
        "### Self-Attention"
      ]
    },
    {
      "cell_type": "code",
      "execution_count": 5,
      "metadata": {
        "colab": {
          "base_uri": "https://localhost:8080/"
        },
        "id": "z2Q7t_HfMWdI",
        "outputId": "622392c5-e4ad-412d-9b1f-e519795c506a"
      },
      "outputs": [
        {
          "data": {
            "text/plain": [
              "array([[ 0.52660777, -4.60843718, -1.2194196 , -4.80122678],\n",
              "       [-2.9062646 ,  1.53650381,  5.35775067, -1.73566009],\n",
              "       [ 0.33124386, -0.67084807,  2.37607251, -2.1901793 ],\n",
              "       [ 6.51261514, -2.05107043,  1.49712595, -2.1296765 ]])"
            ]
          },
          "execution_count": 5,
          "metadata": {},
          "output_type": "execute_result"
        }
      ],
      "source": [
        "np.matmul(q,k.T)"
      ]
    },
    {
      "cell_type": "code",
      "execution_count": 8,
      "metadata": {
        "colab": {
          "base_uri": "https://localhost:8080/"
        },
        "id": "wRK7ZeOVPCpm",
        "outputId": "9986810d-d002-4e1c-948f-10295c3c534a"
      },
      "outputs": [
        {
          "data": {
            "text/plain": [
              "(1.3635379007569473, 1.4577449689111446, 9.493123428241532)"
            ]
          },
          "execution_count": 8,
          "metadata": {},
          "output_type": "execute_result"
        }
      ],
      "source": [
        "q.var(),k.var()  ,np.matmul(q,k.T).var()"
      ]
    },
    {
      "cell_type": "code",
      "execution_count": 11,
      "metadata": {
        "colab": {
          "base_uri": "https://localhost:8080/"
        },
        "id": "JcDprYfIPwkh",
        "outputId": "3baebd7d-2e71-4140-9b8f-a9396adbd8a4"
      },
      "outputs": [
        {
          "data": {
            "text/plain": [
              "(1.3635379007569473, 1.4577449689111446, 1.1866404285301915)"
            ]
          },
          "execution_count": 11,
          "metadata": {},
          "output_type": "execute_result"
        }
      ],
      "source": [
        "scaled_values = np.matmul(q,k.T) / math.sqrt(d_k)\n",
        "q.var(),k.var(),scaled_values.var() # By applying the denominator d_k now you can see that all the values are in the same range."
      ]
    },
    {
      "cell_type": "code",
      "execution_count": 16,
      "metadata": {
        "colab": {
          "base_uri": "https://localhost:8080/"
        },
        "id": "N8SWnijoSECf",
        "outputId": "743a84b7-9703-406c-b0c3-6013df8d4e65"
      },
      "outputs": [
        {
          "data": {
            "text/plain": [
              "array([[ 0.18618396, -1.62932859, -0.43112993, -1.69749001],\n",
              "       [-1.0275197 ,  0.54323613,  1.89425092, -0.61364851],\n",
              "       [ 0.11711239, -0.23718061,  0.84006849, -0.77434532],\n",
              "       [ 2.30255716, -0.7251629 ,  0.52931396, -0.75295435]])"
            ]
          },
          "execution_count": 16,
          "metadata": {},
          "output_type": "execute_result"
        }
      ],
      "source": [
        "scaled_values"
      ]
    },
    {
      "cell_type": "markdown",
      "metadata": {
        "id": "-DeeMT71RZAC"
      },
      "source": [
        "### Masking for Decoder"
      ]
    },
    {
      "cell_type": "code",
      "execution_count": 12,
      "metadata": {
        "colab": {
          "base_uri": "https://localhost:8080/"
        },
        "id": "dfRY6d8cQOv6",
        "outputId": "76b1cb80-ec8a-4870-ec8b-82ca13472198"
      },
      "outputs": [
        {
          "data": {
            "text/plain": [
              "array([[1., 0., 0., 0.],\n",
              "       [1., 1., 0., 0.],\n",
              "       [1., 1., 1., 0.],\n",
              "       [1., 1., 1., 1.]])"
            ]
          },
          "execution_count": 12,
          "metadata": {},
          "output_type": "execute_result"
        }
      ],
      "source": [
        "mask = np.tril(np.ones((L,L)))\n",
        "mask"
      ]
    },
    {
      "cell_type": "code",
      "execution_count": 13,
      "metadata": {
        "id": "JxZaqUj0Rx3m"
      },
      "outputs": [],
      "source": [
        "mask[mask==0] = -np.infty\n",
        "mask[mask==1] = 0"
      ]
    },
    {
      "cell_type": "code",
      "execution_count": 14,
      "metadata": {
        "colab": {
          "base_uri": "https://localhost:8080/"
        },
        "id": "M2IwEPygR8UI",
        "outputId": "fab1f848-3f3b-49bd-92f2-09430a35e1fe"
      },
      "outputs": [
        {
          "data": {
            "text/plain": [
              "array([[  0., -inf, -inf, -inf],\n",
              "       [  0.,   0., -inf, -inf],\n",
              "       [  0.,   0.,   0., -inf],\n",
              "       [  0.,   0.,   0.,   0.]])"
            ]
          },
          "execution_count": 14,
          "metadata": {},
          "output_type": "execute_result"
        }
      ],
      "source": [
        "mask"
      ]
    },
    {
      "cell_type": "code",
      "execution_count": 20,
      "metadata": {
        "colab": {
          "base_uri": "https://localhost:8080/"
        },
        "id": "gc1EmhKZR87R",
        "outputId": "50f4ee11-a0a4-4779-9f64-ed2ac2e0f4fc"
      },
      "outputs": [
        {
          "data": {
            "text/plain": [
              "array([[ 0.18618396,        -inf,        -inf,        -inf],\n",
              "       [-1.0275197 ,  0.54323613,        -inf,        -inf],\n",
              "       [ 0.11711239, -0.23718061,  0.84006849,        -inf],\n",
              "       [ 2.30255716, -0.7251629 ,  0.52931396, -0.75295435]])"
            ]
          },
          "execution_count": 20,
          "metadata": {},
          "output_type": "execute_result"
        }
      ],
      "source": [
        "# Now each current value is depending on the previous value instead of next value\n",
        "scaled_values + mask"
      ]
    },
    {
      "cell_type": "markdown",
      "metadata": {
        "id": "h2wordMmSekg"
      },
      "source": [
        "#### Softmax"
      ]
    },
    {
      "cell_type": "code",
      "execution_count": 32,
      "metadata": {
        "id": "alCh7B62R_Xn"
      },
      "outputs": [],
      "source": [
        "#x is  the input in our case its scaled_values+mask\n",
        "def softmax(x):\n",
        "  return(np.exp(x).T / np.sum(np.exp(x),axis=-1)).T"
      ]
    },
    {
      "cell_type": "code",
      "execution_count": 26,
      "metadata": {
        "colab": {
          "base_uri": "https://localhost:8080/"
        },
        "id": "tfuVJkysTiCp",
        "outputId": "ca6337dd-7b35-41c8-a9f3-ffa66b114250"
      },
      "outputs": [
        {
          "name": "stdout",
          "output_type": "stream",
          "text": [
            "[[0.53932303 0.08777723 0.29090618 0.08199356]\n",
            " [0.03861438 0.18574606 0.71722906 0.05841051]\n",
            " [0.23967928 0.1681756  0.49386282 0.0982823 ]\n",
            " [0.79032266 0.0382721  0.13418213 0.03722311]]\n"
          ]
        }
      ],
      "source": [
        "# Before adding the mask.\n",
        "print(softmax(scaled_values))"
      ]
    },
    {
      "cell_type": "code",
      "execution_count": 27,
      "metadata": {
        "id": "K-jqQIuoTBAJ"
      },
      "outputs": [],
      "source": [
        "#after adding the mask\n",
        "attention_before_V= softmax(scaled_values + mask)"
      ]
    },
    {
      "cell_type": "code",
      "execution_count": 28,
      "metadata": {
        "colab": {
          "base_uri": "https://localhost:8080/"
        },
        "id": "ppalNwIFTJtv",
        "outputId": "08c1e530-ccfb-45ef-9dc8-6af48f14144b"
      },
      "outputs": [
        {
          "data": {
            "text/plain": [
              "array([[1.        , 0.        , 0.        , 0.        ],\n",
              "       [0.17210867, 0.82789133, 0.        , 0.        ],\n",
              "       [0.26580301, 0.18650582, 0.54769117, 0.        ],\n",
              "       [0.79032266, 0.0382721 , 0.13418213, 0.03722311]])"
            ]
          },
          "execution_count": 28,
          "metadata": {},
          "output_type": "execute_result"
        }
      ],
      "source": [
        "attention_before_V"
      ]
    },
    {
      "cell_type": "code",
      "execution_count": 29,
      "metadata": {
        "colab": {
          "base_uri": "https://localhost:8080/"
        },
        "id": "cfIdKmarTZSh",
        "outputId": "3bd6ea18-395c-419f-b053-caa570717a79"
      },
      "outputs": [
        {
          "data": {
            "text/plain": [
              "array([[ 0.81792666,  0.82236399, -0.41895922,  0.22666141,  0.94511862,\n",
              "        -0.52021735, -0.64588996, -0.87000742],\n",
              "       [-1.72124914, -0.11917752,  0.10030999,  0.17790366, -0.14471279,\n",
              "         1.16727093,  0.56597595, -0.86661605],\n",
              "       [ 0.48455696,  0.49623802,  0.30719654, -1.16219838,  0.35669711,\n",
              "        -0.17322052, -1.23137942,  0.11496116],\n",
              "       [ 0.78773285,  0.71521167, -0.20040347, -0.09814017,  0.75931991,\n",
              "        -0.42659804, -0.7674411 , -0.59475329]])"
            ]
          },
          "execution_count": 29,
          "metadata": {},
          "output_type": "execute_result"
        }
      ],
      "source": [
        "new_V = np.matmul(attention_before_V , v)\n",
        "new_V"
      ]
    },
    {
      "cell_type": "code",
      "execution_count": 30,
      "metadata": {
        "colab": {
          "base_uri": "https://localhost:8080/"
        },
        "id": "g5hxk8BlT8YE",
        "outputId": "0e00092a-1796-4607-e649-0b9e2a8f3269"
      },
      "outputs": [
        {
          "data": {
            "text/plain": [
              "array([[ 0.81792666,  0.82236399, -0.41895922,  0.22666141,  0.94511862,\n",
              "        -0.52021735, -0.64588996, -0.87000742],\n",
              "       [-2.2491133 , -0.31491269,  0.20825982,  0.16776751, -0.37127566,\n",
              "         1.51807949,  0.81790832, -0.86591103],\n",
              "       [ 1.25366696,  0.61418601,  0.6933022 , -2.28912817,  0.31902434,\n",
              "        -0.58075768, -2.21337254,  0.92699907],\n",
              "       [ 1.5894821 , -0.13651838,  0.79816503,  0.63034682, -0.43592847,\n",
              "         0.11736599,  0.2340575 ,  0.04262961]])"
            ]
          },
          "execution_count": 30,
          "metadata": {},
          "output_type": "execute_result"
        }
      ],
      "source": [
        "v"
      ]
    },
    {
      "cell_type": "code",
      "execution_count": 35,
      "metadata": {
        "id": "4CmfAv8oUAn2"
      },
      "outputs": [],
      "source": [
        "def softmax(x):\n",
        "  return(np.exp(x).T / np.sum(np.exp(x),axis=-1)).T\n",
        "def scaled_dot_product_Attention(q,k,v,mask=None):\n",
        "  d_k =q.shape[-1]\n",
        "  scaled = np.matmul(q,k.T) / math.sqrt(d_k)\n",
        "  if mask is not None:\n",
        "    scaled = scaled + mask\n",
        "  attention = softmax(scaled)\n",
        "  out = np.matmul(attention,v)\n",
        "  return out , attention"
      ]
    },
    {
      "cell_type": "markdown",
      "metadata": {
        "id": "HhkTm4g-Xh-L"
      },
      "source": [
        "### Encoder"
      ]
    },
    {
      "cell_type": "code",
      "execution_count": 37,
      "metadata": {
        "colab": {
          "base_uri": "https://localhost:8080/"
        },
        "id": "r8ECawbvVrXg",
        "outputId": "6e4c9153-dbab-4e1e-82ec-51b6a912e348"
      },
      "outputs": [
        {
          "name": "stdout",
          "output_type": "stream",
          "text": [
            "Q\n",
            "[[ 1.23083442  0.23780154  0.49963663  0.66060411  0.70506491 -1.3407174\n",
            "  -1.28707246  1.26635347]\n",
            " [ 0.78347705  1.09805569 -1.18751775 -0.57766779  1.38640692  0.64106228\n",
            "   0.12609477  1.3256973 ]\n",
            " [-0.87707701  0.30595606  1.11351654  1.07346526 -1.35059628  0.25691575\n",
            "   0.71501038 -1.12965311]\n",
            " [ 0.43742223  0.18957705 -1.63318612 -2.23190212  0.39821764  0.41517094\n",
            "   0.23741383 -1.53932298]]\n",
            "\n",
            "K\n",
            "[[-1.30320263  0.0876317  -0.68980643  0.4427153   0.90717826 -0.16077661\n",
            "  -0.0099921  -1.58829012]\n",
            " [-0.36743927  0.34094691  1.7134338   0.65427438  1.30200938 -0.61145828\n",
            "  -1.06062647  0.71670681]\n",
            " [-1.53207548 -1.4651322  -1.29869614  1.07817591  1.13953673  0.93676069\n",
            "  -0.31606087  0.34552698]\n",
            " [ 0.23910301  0.72556814 -0.74747835 -2.03170547  1.38947414  0.05281547\n",
            "   0.47667075 -0.94524177]]\n",
            "\n",
            "V\n",
            "[[ 0.81792666  0.82236399 -0.41895922  0.22666141  0.94511862 -0.52021735\n",
            "  -0.64588996 -0.87000742]\n",
            " [-2.2491133  -0.31491269  0.20825982  0.16776751 -0.37127566  1.51807949\n",
            "   0.81790832 -0.86591103]\n",
            " [ 1.25366696  0.61418601  0.6933022  -2.28912817  0.31902434 -0.58075768\n",
            "  -2.21337254  0.92699907]\n",
            " [ 1.5894821  -0.13651838  0.79816503  0.63034682 -0.43592847  0.11736599\n",
            "   0.2340575   0.04262961]]\n",
            "\n",
            "New-Values\n",
            " [[-1.57013092 -0.17312263  0.25054231  0.0165164  -0.25402884  1.15998758\n",
            "   0.4739115  -0.67125146]\n",
            " [ 0.90203268  0.07075181  0.57974893 -0.03120527 -0.15351322  0.12568407\n",
            "  -0.23156822 -0.00423356]\n",
            " [ 0.19840336  0.41712997  0.04770152 -0.21684441  0.38170567  0.03292581\n",
            "  -0.49309152 -0.45912364]\n",
            " [ 1.46752681 -0.00827565  0.6581991   0.48507848 -0.25994978  0.03435063\n",
            "   0.06018161 -0.03319799]]\n",
            "Attention\n",
            " [[0.05284592 0.80591155 0.07525301 0.06598952]\n",
            " [0.09339787 0.14361255 0.1909304  0.57205918]\n",
            " [0.47960546 0.24987083 0.18427848 0.08624522]\n",
            " [0.10871906 0.00697714 0.03361994 0.85068387]]\n"
          ]
        }
      ],
      "source": [
        "#Encoder\n",
        "values, attention = scaled_dot_product_Attention(q,k,v,mask=None)\n",
        "print(f\"Q\\n{q}\\n\") #vector of 8x1 is created.\n",
        "print(f\"K\\n{k}\\n\")  #vector of 8x1 is created.\n",
        "print(f\"V\\n{v}\\n\")  #vector of 8x1 is created.\n",
        "print(f\"New-Values\\n\",values)\n",
        "print(f\"Attention\\n\",attention)"
      ]
    },
    {
      "cell_type": "markdown",
      "metadata": {
        "id": "IAi-o7TRXlsw"
      },
      "source": [
        "### Decoder"
      ]
    },
    {
      "cell_type": "code",
      "execution_count": 39,
      "metadata": {
        "colab": {
          "base_uri": "https://localhost:8080/"
        },
        "id": "N1rOq5toWfxw",
        "outputId": "f4fbdce3-a792-4b8e-c5ba-1a71c553529a"
      },
      "outputs": [
        {
          "name": "stdout",
          "output_type": "stream",
          "text": [
            "Q\n",
            "[[ 1.23083442  0.23780154  0.49963663  0.66060411  0.70506491 -1.3407174\n",
            "  -1.28707246  1.26635347]\n",
            " [ 0.78347705  1.09805569 -1.18751775 -0.57766779  1.38640692  0.64106228\n",
            "   0.12609477  1.3256973 ]\n",
            " [-0.87707701  0.30595606  1.11351654  1.07346526 -1.35059628  0.25691575\n",
            "   0.71501038 -1.12965311]\n",
            " [ 0.43742223  0.18957705 -1.63318612 -2.23190212  0.39821764  0.41517094\n",
            "   0.23741383 -1.53932298]]\n",
            "\n",
            "K\n",
            "[[-1.30320263  0.0876317  -0.68980643  0.4427153   0.90717826 -0.16077661\n",
            "  -0.0099921  -1.58829012]\n",
            " [-0.36743927  0.34094691  1.7134338   0.65427438  1.30200938 -0.61145828\n",
            "  -1.06062647  0.71670681]\n",
            " [-1.53207548 -1.4651322  -1.29869614  1.07817591  1.13953673  0.93676069\n",
            "  -0.31606087  0.34552698]\n",
            " [ 0.23910301  0.72556814 -0.74747835 -2.03170547  1.38947414  0.05281547\n",
            "   0.47667075 -0.94524177]]\n",
            "\n",
            "V\n",
            "[[ 0.81792666  0.82236399 -0.41895922  0.22666141  0.94511862 -0.52021735\n",
            "  -0.64588996 -0.87000742]\n",
            " [-2.2491133  -0.31491269  0.20825982  0.16776751 -0.37127566  1.51807949\n",
            "   0.81790832 -0.86591103]\n",
            " [ 1.25366696  0.61418601  0.6933022  -2.28912817  0.31902434 -0.58075768\n",
            "  -2.21337254  0.92699907]\n",
            " [ 1.5894821  -0.13651838  0.79816503  0.63034682 -0.43592847  0.11736599\n",
            "   0.2340575   0.04262961]]\n",
            "\n",
            "New-Values\n",
            " [[ 0.81792666  0.82236399 -0.41895922  0.22666141  0.94511862 -0.52021735\n",
            "  -0.64588996 -0.87000742]\n",
            " [-1.04049558  0.13324995 -0.03890619  0.19097562  0.14747124  0.71485497\n",
            "   0.24107445 -0.86752528]\n",
            " [ 0.06710567  0.46938636 -0.02313137 -0.29680699  0.4588785   0.02495588\n",
            "  -0.56172385 -0.50648188]\n",
            " [ 1.46752681 -0.00827565  0.6581991   0.48507848 -0.25994978  0.03435063\n",
            "   0.06018161 -0.03319799]]\n",
            "Attention\n",
            " [[1.         0.         0.         0.        ]\n",
            " [0.39406651 0.60593349 0.         0.        ]\n",
            " [0.52487328 0.27345502 0.2016717  0.        ]\n",
            " [0.10871906 0.00697714 0.03361994 0.85068387]]\n"
          ]
        }
      ],
      "source": [
        "#Decoder with mask\n",
        "values, attention = scaled_dot_product_Attention(q,k,v,mask=mask)\n",
        "print(f\"Q\\n{q}\\n\") #vector of 8x1 is created.\n",
        "print(f\"K\\n{k}\\n\")  #vector of 8x1 is created.\n",
        "print(f\"V\\n{v}\\n\")  #vector of 8x1 is created.\n",
        "print(f\"New-Values\\n\",values)\n",
        "print(f\"Attention\\n\",attention)"
      ]
    },
    {
      "cell_type": "code",
      "execution_count": null,
      "metadata": {
        "id": "wDDLycc9W3j4"
      },
      "outputs": [],
      "source": []
    }
  ],
  "metadata": {
    "colab": {
      "provenance": []
    },
    "kernelspec": {
      "display_name": "Python 3",
      "name": "python3"
    },
    "language_info": {
      "name": "python"
    }
  },
  "nbformat": 4,
  "nbformat_minor": 0
}
